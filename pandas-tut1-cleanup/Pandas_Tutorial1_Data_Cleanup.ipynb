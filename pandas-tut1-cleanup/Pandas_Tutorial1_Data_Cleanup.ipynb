{
 "cells": [
  {
   "cell_type": "code",
   "execution_count": 1,
   "id": "1c90073c",
   "metadata": {
    "ExecuteTime": {
     "end_time": "2022-03-13T06:25:15.414536Z",
     "start_time": "2022-03-13T06:25:13.292635Z"
    }
   },
   "outputs": [],
   "source": [
    "import pandas as pd\n",
    "import numpy as np\n",
    "from functools import reduce\n",
    "from IPython.display import HTML \n",
    "import re"
   ]
  },
  {
   "cell_type": "code",
   "execution_count": 2,
   "id": "f88ec7f2",
   "metadata": {
    "ExecuteTime": {
     "end_time": "2022-03-13T06:25:15.500884Z",
     "start_time": "2022-03-13T06:25:15.416609Z"
    }
   },
   "outputs": [
    {
     "data": {
      "text/html": [
       "<div>\n",
       "<style scoped>\n",
       "    .dataframe tbody tr th:only-of-type {\n",
       "        vertical-align: middle;\n",
       "    }\n",
       "\n",
       "    .dataframe tbody tr th {\n",
       "        vertical-align: top;\n",
       "    }\n",
       "\n",
       "    .dataframe thead th {\n",
       "        text-align: right;\n",
       "    }\n",
       "</style>\n",
       "<table border=\"1\" class=\"dataframe\">\n",
       "  <thead>\n",
       "    <tr style=\"text-align: right;\">\n",
       "      <th></th>\n",
       "      <th>place_of_publication</th>\n",
       "      <th>date_of_publication</th>\n",
       "      <th>publisher</th>\n",
       "      <th>title</th>\n",
       "      <th>author</th>\n",
       "      <th>flickr_url</th>\n",
       "    </tr>\n",
       "    <tr>\n",
       "      <th>Identifier</th>\n",
       "      <th></th>\n",
       "      <th></th>\n",
       "      <th></th>\n",
       "      <th></th>\n",
       "      <th></th>\n",
       "      <th></th>\n",
       "    </tr>\n",
       "  </thead>\n",
       "  <tbody>\n",
       "    <tr>\n",
       "      <th>206</th>\n",
       "      <td>London</td>\n",
       "      <td>1879 [1878]</td>\n",
       "      <td>S. Tinsley &amp; Co.</td>\n",
       "      <td>Walter Forbes. [A novel.] By A. A</td>\n",
       "      <td>A. A.</td>\n",
       "      <td>http://www.flickr.com/photos/britishlibrary/ta...</td>\n",
       "    </tr>\n",
       "    <tr>\n",
       "      <th>216</th>\n",
       "      <td>London; Virtue &amp; Yorston</td>\n",
       "      <td>1868</td>\n",
       "      <td>Virtue &amp; Co.</td>\n",
       "      <td>All for Greed. [A novel. The dedication signed...</td>\n",
       "      <td>A., A. A.</td>\n",
       "      <td>http://www.flickr.com/photos/britishlibrary/ta...</td>\n",
       "    </tr>\n",
       "    <tr>\n",
       "      <th>218</th>\n",
       "      <td>London</td>\n",
       "      <td>1869</td>\n",
       "      <td>Bradbury, Evans &amp; Co.</td>\n",
       "      <td>Love the Avenger. By the author of “All for Gr...</td>\n",
       "      <td>A., A. A.</td>\n",
       "      <td>http://www.flickr.com/photos/britishlibrary/ta...</td>\n",
       "    </tr>\n",
       "    <tr>\n",
       "      <th>472</th>\n",
       "      <td>London</td>\n",
       "      <td>1851</td>\n",
       "      <td>James Darling</td>\n",
       "      <td>Welsh Sketches, chiefly ecclesiastical, to the...</td>\n",
       "      <td>A., E. S.</td>\n",
       "      <td>http://www.flickr.com/photos/britishlibrary/ta...</td>\n",
       "    </tr>\n",
       "    <tr>\n",
       "      <th>480</th>\n",
       "      <td>London</td>\n",
       "      <td>1857</td>\n",
       "      <td>Wertheim &amp; Macintosh</td>\n",
       "      <td>[The World in which I live, and my place in it...</td>\n",
       "      <td>A., E. S.</td>\n",
       "      <td>http://www.flickr.com/photos/britishlibrary/ta...</td>\n",
       "    </tr>\n",
       "  </tbody>\n",
       "</table>\n",
       "</div>"
      ],
      "text/plain": [
       "                place_of_publication date_of_publication  \\\n",
       "Identifier                                                 \n",
       "206                           London         1879 [1878]   \n",
       "216         London; Virtue & Yorston                1868   \n",
       "218                           London                1869   \n",
       "472                           London                1851   \n",
       "480                           London                1857   \n",
       "\n",
       "                        publisher  \\\n",
       "Identifier                          \n",
       "206              S. Tinsley & Co.   \n",
       "216                  Virtue & Co.   \n",
       "218         Bradbury, Evans & Co.   \n",
       "472                 James Darling   \n",
       "480          Wertheim & Macintosh   \n",
       "\n",
       "                                                        title     author  \\\n",
       "Identifier                                                                 \n",
       "206                         Walter Forbes. [A novel.] By A. A      A. A.   \n",
       "216         All for Greed. [A novel. The dedication signed...  A., A. A.   \n",
       "218         Love the Avenger. By the author of “All for Gr...  A., A. A.   \n",
       "472         Welsh Sketches, chiefly ecclesiastical, to the...  A., E. S.   \n",
       "480         [The World in which I live, and my place in it...  A., E. S.   \n",
       "\n",
       "                                                   flickr_url  \n",
       "Identifier                                                     \n",
       "206         http://www.flickr.com/photos/britishlibrary/ta...  \n",
       "216         http://www.flickr.com/photos/britishlibrary/ta...  \n",
       "218         http://www.flickr.com/photos/britishlibrary/ta...  \n",
       "472         http://www.flickr.com/photos/britishlibrary/ta...  \n",
       "480         http://www.flickr.com/photos/britishlibrary/ta...  "
      ]
     },
     "execution_count": 2,
     "metadata": {},
     "output_type": "execute_result"
    }
   ],
   "source": [
    "# list of required columns\n",
    "cols = ['Place of Publication',\n",
    " 'Author',\n",
    " 'Date of Publication',\n",
    " 'Title',\n",
    " 'Identifier',\n",
    " 'Flickr URL',\n",
    " 'Publisher']\n",
    "\n",
    "# convert all characters in headers to lowercase and change space to underscore\n",
    "cols_lower = [i.lower().replace(' ','_') for i in cols]\n",
    "\n",
    "# read only required columns, set index and rename columns\n",
    "df = pd.read_csv('Datasets/BL-Flickr-Images-Book.csv',\n",
    "                 usecols=cols,index_col='Identifier').rename(columns = dict(zip(cols,cols_lower)))\n",
    "df.head()\n",
    "\n",
    "# for large datasets there are multiple things to think about before loading into a Dataset (memory)\n",
    "# > do we really want to load all the data in memory?, like above case, we can reduce # of columns to load\n",
    "# > if the data really needs to be loaded, can we optimize loading the data:\n",
    "#\n",
    "#    >> you can specify dtype for the columns in read_csv. This can significantly reduce memory utilization\n",
    "#       since for e.g. Category type columns will take significantly less memory, since there are only a few \n",
    "#       distinct values in column. Like 'author' or 'place_of_publication'. You need to understand the \n",
    "#       cardinality of the data columns.\n",
    "#       checkout: https://towardsdatascience.com/reducing-memory-usage-in-pandas-with-smaller-datatypes-b527635830af\n",
    "#\n",
    "#    >> For really large datasets use chunking to break data into smaller sizes or use database to make \n",
    "#       querying efficient. Checkout: https://towardsdatascience.com/loading-large-datasets-in-pandas-11bdddd36f7b"
   ]
  },
  {
   "cell_type": "code",
   "execution_count": 3,
   "id": "3e366282",
   "metadata": {
    "ExecuteTime": {
     "end_time": "2022-03-13T06:25:15.511548Z",
     "start_time": "2022-03-13T06:25:15.503225Z"
    }
   },
   "outputs": [
    {
     "data": {
      "text/html": [
       "<H3>Count of all columns</H3>"
      ],
      "text/plain": [
       "<IPython.core.display.HTML object>"
      ]
     },
     "metadata": {},
     "output_type": "display_data"
    },
    {
     "data": {
      "text/plain": [
       "place_of_publication    8287\n",
       "date_of_publication     8106\n",
       "publisher               4092\n",
       "title                   8287\n",
       "author                  6509\n",
       "flickr_url              8287\n",
       "dtype: int64"
      ]
     },
     "execution_count": 3,
     "metadata": {},
     "output_type": "execute_result"
    }
   ],
   "source": [
    "display(HTML('<H3>Count of all columns</H3>'))\n",
    "df.count()"
   ]
  },
  {
   "cell_type": "code",
   "execution_count": 4,
   "id": "9bfb795f",
   "metadata": {
    "ExecuteTime": {
     "end_time": "2022-03-13T06:25:15.546912Z",
     "start_time": "2022-03-13T06:25:15.513820Z"
    },
    "scrolled": true
   },
   "outputs": [
    {
     "data": {
      "text/html": [
       "<H3>Check cardinality of columns, if you want to use dtypes in read_csv</H3>"
      ],
      "text/plain": [
       "<IPython.core.display.HTML object>"
      ]
     },
     "metadata": {},
     "output_type": "display_data"
    },
    {
     "name": "stdout",
     "output_type": "stream",
     "text": [
      "place_of_publication : 1441\n",
      "date_of_publication  : 1148\n",
      "publisher            : 1989\n",
      "title                : 8210\n",
      "author               : 5005\n",
      "flickr_url           : 8287\n"
     ]
    }
   ],
   "source": [
    "display(HTML('<H3>Check cardinality of columns, if you want to use dtypes in read_csv</H3>'))\n",
    "for col in df:\n",
    "    cardinality = len(pd.Index(df[col]).value_counts())\n",
    "    print(f'{df[col].name:<20} : {cardinality:<4}')"
   ]
  },
  {
   "cell_type": "code",
   "execution_count": 5,
   "id": "cc4ccd07",
   "metadata": {
    "ExecuteTime": {
     "end_time": "2022-03-13T06:25:15.559349Z",
     "start_time": "2022-03-13T06:25:15.548622Z"
    }
   },
   "outputs": [
    {
     "data": {
      "text/html": [
       "<H3>Check if there are any <font color=\"red\">NaN</font> or missing values</H3>"
      ],
      "text/plain": [
       "<IPython.core.display.HTML object>"
      ]
     },
     "metadata": {},
     "output_type": "display_data"
    },
    {
     "name": "stdout",
     "output_type": "stream",
     "text": [
      "place_of_publication : 0   \n",
      "date_of_publication  : 181 \n",
      "publisher            : 4195\n",
      "title                : 0   \n",
      "author               : 1778\n",
      "flickr_url           : 0   \n"
     ]
    }
   ],
   "source": [
    "display(HTML('<H3>Check if there are any <font color=\"red\">NaN</font> or missing values</H3>'))\n",
    "for col in df:\n",
    "    nodata = pd.Index(df[col]).isnull().sum()\n",
    "    print(f'{df[col].name:<20} : {nodata:<4}')\n",
    "    \n",
    "## When you see that there are NaN or missing values, you have to understand that a lot of analytics and\n",
    "## algorithms dont work well with them. So you have to either convert these values to a standard default\n",
    "## or remove the rows that have missing data.\n",
    "## For this you can use:\n",
    "## > df.dropna() -> to drop the rows containing missing data\n",
    "## > df.fillna() -> to fill the empty rows with default data"
   ]
  },
  {
   "cell_type": "code",
   "execution_count": 6,
   "id": "fbd4ee9e",
   "metadata": {
    "ExecuteTime": {
     "end_time": "2022-03-13T06:25:15.577690Z",
     "start_time": "2022-03-13T06:25:15.562475Z"
    }
   },
   "outputs": [
    {
     "data": {
      "text/html": [
       "<H3>Cleanup date_of_publication (Year) column</H3>"
      ],
      "text/plain": [
       "<IPython.core.display.HTML object>"
      ]
     },
     "metadata": {},
     "output_type": "display_data"
    },
    {
     "data": {
      "text/plain": [
       "Identifier\n",
       "206    1879 \n",
       "216     1868\n",
       "218     1869\n",
       "472     1851\n",
       "480     1857\n",
       "Name: date_of_publication, dtype: object"
      ]
     },
     "execution_count": 6,
     "metadata": {},
     "output_type": "execute_result"
    }
   ],
   "source": [
    "display(HTML('<H3>Cleanup date_of_publication (Year) column</H3>'))\n",
    "def cleanup_year(year):\n",
    "    disallowed_characters = '[,-'\n",
    "    data = str(year)\n",
    "    if data == 'nan' or data.startswith('['):\n",
    "        return np.NaN\n",
    "    else:\n",
    "        for character in disallowed_characters:\n",
    "            if character in data:\n",
    "                character_index = data.find(character)\n",
    "                data = data[:character_index]\n",
    "        return data\n",
    "\n",
    "df['date_of_publication'] = df['date_of_publication'].apply(cleanup_year)\n",
    "df['date_of_publication'].head()\n",
    "\n",
    "## Here we are cleaning up column with Year information, there are special characters like [ - , in the value\n",
    "## we are taking only the component before these special values. For e.g. if the data is 1983-84 we take 1983"
   ]
  },
  {
   "cell_type": "code",
   "execution_count": 7,
   "id": "de6a12a4",
   "metadata": {
    "ExecuteTime": {
     "end_time": "2022-03-13T06:25:15.605790Z",
     "start_time": "2022-03-13T06:25:15.579391Z"
    },
    "scrolled": false
   },
   "outputs": [
    {
     "data": {
      "text/html": [
       "<H3>Cleanup author (Name) column</H3>"
      ],
      "text/plain": [
       "<IPython.core.display.HTML object>"
      ]
     },
     "metadata": {},
     "output_type": "display_data"
    },
    {
     "data": {
      "text/plain": [
       "Identifier\n",
       "206           AA\n",
       "216     A. A, A.\n",
       "218     A. A, A.\n",
       "472     E. S, A.\n",
       "480     E. S, A.\n",
       "Name: author, dtype: object"
      ]
     },
     "execution_count": 7,
     "metadata": {},
     "output_type": "execute_result"
    }
   ],
   "source": [
    "display(HTML('<H3>Cleanup author (Name) column</H3>'))\n",
    "def cleanup_name(name):\n",
    "    author = str(name)\n",
    "    if author == 'nan':\n",
    "        return np.NaN\n",
    "    else:\n",
    "        author = author.split(',')\n",
    "        if(len(author)==1):\n",
    "            name = filter(lambda x:x.isalpha(), author[0])\n",
    "            return reduce(lambda x,y:x+y,name)\n",
    "        else:\n",
    "            lname,fname=author[0],author[1]\n",
    "            fname = fname[:fname.find('-')] if '-' in fname else fname\n",
    "            if fname.endswith(('.', '.|')):\n",
    "                parts = fname.split('.')\n",
    "                if len(parts) > 1:\n",
    "                    first_occurence = fname.find('.')\n",
    "                    final_occurence = fname.find('.', first_occurence + 1)\n",
    "                    fname = fname[:final_occurence]\n",
    "            else:\n",
    "                fname = fname[:fname.find('.')]\n",
    "        lname = lname.capitalize()\n",
    "        return f'{fname}, {lname}'\n",
    "\n",
    "df['author'] = df['author'].apply(cleanup_name)\n",
    "df['author'].head()\n",
    "\n",
    "## Here we are cleaning up author name, this is clearly dependant on what is the formatting of the Name. In \n",
    "## this case, there is the format looks like \"LastName, FirstName.FirstName.OtherStuff\" or something similar\n",
    "## We are splitting it by comma and then cleaning up FirstName to have data before OtherStuff and then joining\n",
    "## it with the LastName. I have added the comma back again to be able to later break this column into fname and\n",
    "## lname."
   ]
  },
  {
   "cell_type": "code",
   "execution_count": 8,
   "id": "67870aaa",
   "metadata": {
    "ExecuteTime": {
     "end_time": "2022-03-13T06:25:15.629097Z",
     "start_time": "2022-03-13T06:25:15.610092Z"
    }
   },
   "outputs": [],
   "source": [
    "## We can further convert a single author name column to multiple columns using\n",
    "df[['fname','lname']] = df['author'].str.split(',',expand=True)"
   ]
  },
  {
   "cell_type": "code",
   "execution_count": 9,
   "id": "04f38bd6",
   "metadata": {
    "ExecuteTime": {
     "end_time": "2022-03-13T06:25:15.681375Z",
     "start_time": "2022-03-13T06:25:15.631258Z"
    }
   },
   "outputs": [
    {
     "data": {
      "text/html": [
       "<H3>Cleanup title (Name) column</H3>"
      ],
      "text/plain": [
       "<IPython.core.display.HTML object>"
      ]
     },
     "metadata": {},
     "output_type": "display_data"
    },
    {
     "data": {
      "text/plain": [
       "Identifier\n",
       "206                                         Walter Forbe\n",
       "216                                         All For Gree\n",
       "218                                      Love The Avenge\n",
       "472    Welsh Sketches, Chiefly Ecclesiastical, To The...\n",
       "480         The World In Which I Live, And My Place In I\n",
       "Name: title, dtype: object"
      ]
     },
     "execution_count": 9,
     "metadata": {},
     "output_type": "execute_result"
    }
   ],
   "source": [
    "display(HTML('<H3>Cleanup title (Name) column</H3>'))\n",
    "def cleanup_title(title):\n",
    "    if title == 'nan':\n",
    "        return 'NaN'\n",
    "    if title[0] == '[':\n",
    "        title = title[1: title.find(']')]\n",
    "    if 'by' in title:\n",
    "        title = title[:title.find('by')]\n",
    "    elif 'By' in title:\n",
    "        title = title[:title.find('By')]\n",
    "    if '[' in title:\n",
    "        title = title[:title.find('[')]\n",
    "    return ' '.join(list(map(str.capitalize, title[:title.find('[')][:-2].split())))\n",
    "\n",
    "df['title'] = df['title'].apply(cleanup_title)\n",
    "df['title'].head()\n",
    "\n",
    "## Here we are cleaning up the title column, againt this depends on the formatting. The idea here is to take\n",
    "## the value before ('by' or 'By') or between '[' and ']'. We are also Capitalizing the title name.\n",
    "## Another thing demonstrated here is the chaining of multiple operations, to undersand it you have to look\n",
    "## from the inside out. The map operation is applied to each word of the title and capitalizes them. Then they\n",
    "## are joined back together into a sentence."
   ]
  },
  {
   "cell_type": "code",
   "execution_count": 10,
   "id": "965db7ad",
   "metadata": {
    "ExecuteTime": {
     "end_time": "2022-03-13T06:25:15.698020Z",
     "start_time": "2022-03-13T06:25:15.682991Z"
    }
   },
   "outputs": [
    {
     "data": {
      "text/html": [
       "<H3>Cleanup place_of_publication (Name) column</H3>"
      ],
      "text/plain": [
       "<IPython.core.display.HTML object>"
      ]
     },
     "metadata": {},
     "output_type": "display_data"
    },
    {
     "data": {
      "text/plain": [
       "Identifier\n",
       "206    London\n",
       "216    London\n",
       "218    London\n",
       "472    London\n",
       "480    London\n",
       "Name: place_of_publication, dtype: object"
      ]
     },
     "execution_count": 10,
     "metadata": {},
     "output_type": "execute_result"
    }
   ],
   "source": [
    "display(HTML('<H3>Cleanup place_of_publication (Name) column</H3>'))\n",
    "pub = df['place_of_publication']\n",
    "df['place_of_publication'] = np.where(pub.str.contains('London'), 'London',\n",
    "                                np.where(pub.str.contains('Oxford'), 'Oxford',\n",
    "                                    np.where(pub.eq('Newcastle upon Tyne'),'Newcastle-upon-Tyne',\n",
    "                                    df['place_of_publication'])))\n",
    "df['place_of_publication'].head()\n",
    "\n",
    "## np.where is like a ternary operator, here we have chained multiple of them. The operation is to only have \n",
    "## London,Oxford,Newcastle upon Tyne if the name contains these. Other names of cities are left alone unaltered."
   ]
  },
  {
   "cell_type": "code",
   "execution_count": 11,
   "id": "0ae366fa",
   "metadata": {
    "ExecuteTime": {
     "end_time": "2022-03-13T06:25:15.716810Z",
     "start_time": "2022-03-13T06:25:15.699876Z"
    }
   },
   "outputs": [
    {
     "data": {
      "text/html": [
       "<H3>Reading/cleaning a raw file</H3>"
      ],
      "text/plain": [
       "<IPython.core.display.HTML object>"
      ]
     },
     "metadata": {},
     "output_type": "display_data"
    },
    {
     "data": {
      "text/html": [
       "<div>\n",
       "<style scoped>\n",
       "    .dataframe tbody tr th:only-of-type {\n",
       "        vertical-align: middle;\n",
       "    }\n",
       "\n",
       "    .dataframe tbody tr th {\n",
       "        vertical-align: top;\n",
       "    }\n",
       "\n",
       "    .dataframe thead th {\n",
       "        text-align: right;\n",
       "    }\n",
       "</style>\n",
       "<table border=\"1\" class=\"dataframe\">\n",
       "  <thead>\n",
       "    <tr style=\"text-align: right;\">\n",
       "      <th></th>\n",
       "      <th>state</th>\n",
       "      <th>city</th>\n",
       "      <th>university</th>\n",
       "    </tr>\n",
       "  </thead>\n",
       "  <tbody>\n",
       "    <tr>\n",
       "      <th>0</th>\n",
       "      <td>Alabama</td>\n",
       "      <td>Auburn</td>\n",
       "      <td>Auburn University</td>\n",
       "    </tr>\n",
       "    <tr>\n",
       "      <th>1</th>\n",
       "      <td>Alabama</td>\n",
       "      <td>Florence</td>\n",
       "      <td>University of North Alabama</td>\n",
       "    </tr>\n",
       "    <tr>\n",
       "      <th>2</th>\n",
       "      <td>Alabama</td>\n",
       "      <td>Jacksonville</td>\n",
       "      <td>Jacksonville State University</td>\n",
       "    </tr>\n",
       "    <tr>\n",
       "      <th>3</th>\n",
       "      <td>Alabama</td>\n",
       "      <td>Livingston</td>\n",
       "      <td>University of West Alabama</td>\n",
       "    </tr>\n",
       "    <tr>\n",
       "      <th>4</th>\n",
       "      <td>Alabama</td>\n",
       "      <td>Montevallo</td>\n",
       "      <td>University of Montevallo</td>\n",
       "    </tr>\n",
       "    <tr>\n",
       "      <th>...</th>\n",
       "      <td>...</td>\n",
       "      <td>...</td>\n",
       "      <td>...</td>\n",
       "    </tr>\n",
       "    <tr>\n",
       "      <th>506</th>\n",
       "      <td>Wisconsin</td>\n",
       "      <td>River Falls</td>\n",
       "      <td>University of Wisconsin–River Falls</td>\n",
       "    </tr>\n",
       "    <tr>\n",
       "      <th>507</th>\n",
       "      <td>Wisconsin</td>\n",
       "      <td>Stevens Point</td>\n",
       "      <td>University of Wisconsin–Stevens Point</td>\n",
       "    </tr>\n",
       "    <tr>\n",
       "      <th>508</th>\n",
       "      <td>Wisconsin</td>\n",
       "      <td>Waukesha</td>\n",
       "      <td>Carroll University</td>\n",
       "    </tr>\n",
       "    <tr>\n",
       "      <th>509</th>\n",
       "      <td>Wisconsin</td>\n",
       "      <td>Whitewater</td>\n",
       "      <td>University of Wisconsin–Whitewater</td>\n",
       "    </tr>\n",
       "    <tr>\n",
       "      <th>510</th>\n",
       "      <td>Wyoming</td>\n",
       "      <td>Laramie</td>\n",
       "      <td>University of Wyoming</td>\n",
       "    </tr>\n",
       "  </tbody>\n",
       "</table>\n",
       "<p>511 rows × 3 columns</p>\n",
       "</div>"
      ],
      "text/plain": [
       "         state           city                             university\n",
       "0      Alabama         Auburn                      Auburn University\n",
       "1      Alabama       Florence            University of North Alabama\n",
       "2      Alabama   Jacksonville          Jacksonville State University\n",
       "3      Alabama     Livingston             University of West Alabama\n",
       "4      Alabama     Montevallo               University of Montevallo\n",
       "..         ...            ...                                    ...\n",
       "506  Wisconsin    River Falls    University of Wisconsin–River Falls\n",
       "507  Wisconsin  Stevens Point  University of Wisconsin–Stevens Point\n",
       "508  Wisconsin       Waukesha                     Carroll University\n",
       "509  Wisconsin     Whitewater     University of Wisconsin–Whitewater\n",
       "510    Wyoming        Laramie                  University of Wyoming\n",
       "\n",
       "[511 rows x 3 columns]"
      ]
     },
     "metadata": {},
     "output_type": "display_data"
    }
   ],
   "source": [
    "display(HTML('<H3>Reading/cleaning a raw file</H3>'))\n",
    "university_towns = []\n",
    "failed_regex = []\n",
    "current_state = ''\n",
    "with open('Datasets/university_towns.txt', 'r') as file:\n",
    "    for item in file.readlines():\n",
    "        state = item.replace('[edit]\\n','') if 'edit' in item else ''\n",
    "        if current_state == '':\n",
    "            current_state = state\n",
    "        else:\n",
    "            if state != '':\n",
    "                current_state = state                \n",
    "        if 'edit' not in item:\n",
    "            regionregex = re.compile(r'(.+?) \\((.+?)\\)')\n",
    "            region = regionregex.search(item)\n",
    "            if((region != None)):\n",
    "                if(len(region.groups())==2):\n",
    "                    rlist = [current_state,region.group(1),region.group(2)]\n",
    "                    university_towns.append(rlist)\n",
    "            else:\n",
    "                failed_regex.append([current_state,item])\n",
    "display(pd.DataFrame(university_towns,columns=['state','city','university']))\n",
    "\n",
    "## Here we have taken a raw file that contains data that cannot be directly loaded into a dataframe\n",
    "## You have to parse the data to be able to convert it into a dataframe.\n",
    "## Format of data looks like this:\n",
    "## StateName[edit]\n",
    "## CityName (University/College Name)\n",
    "## Most of the data has this pattern, however you can see there are somerows that dont match."
   ]
  },
  {
   "cell_type": "code",
   "execution_count": 12,
   "id": "bc11d487",
   "metadata": {
    "ExecuteTime": {
     "end_time": "2022-03-13T06:25:15.723880Z",
     "start_time": "2022-03-13T06:25:15.718369Z"
    }
   },
   "outputs": [
    {
     "data": {
      "text/html": [
       "<H3>Regex Failed for the following lines in raw file</H3>"
      ],
      "text/plain": [
       "<IPython.core.display.HTML object>"
      ]
     },
     "metadata": {},
     "output_type": "display_data"
    },
    {
     "data": {
      "text/plain": [
       "[['Kentucky',\n",
       "  'Lexington (University of Kentucky, Transylvania University[5]\\n'],\n",
       " ['Massachusetts', 'The Colleges of Worcester Consortium:\\n'],\n",
       " ['Massachusetts', 'The Five College Region of Western Massachusetts:\\n'],\n",
       " ['Minnesota',\n",
       "  'Duluth (University of Minnesota Duluth, Lake Superior College, The College of St. Scholastica, University of Wisconsin–Superior, Duluth Business University\\n'],\n",
       " ['Minnesota', 'Faribault, South Central College\\n'],\n",
       " ['Minnesota', 'North Mankato, South Central College\\n']]"
      ]
     },
     "metadata": {},
     "output_type": "display_data"
    }
   ],
   "source": [
    "display(HTML('<H3>Regex Failed for the following lines in raw file</H3>'))\n",
    "display([line for line in failed_regex])"
   ]
  },
  {
   "cell_type": "code",
   "execution_count": 32,
   "id": "0a8c6705",
   "metadata": {
    "ExecuteTime": {
     "end_time": "2022-03-13T06:56:50.209474Z",
     "start_time": "2022-03-13T06:56:50.195963Z"
    }
   },
   "outputs": [
    {
     "data": {
      "text/html": [
       "<div>\n",
       "<style scoped>\n",
       "    .dataframe tbody tr th:only-of-type {\n",
       "        vertical-align: middle;\n",
       "    }\n",
       "\n",
       "    .dataframe tbody tr th {\n",
       "        vertical-align: top;\n",
       "    }\n",
       "\n",
       "    .dataframe thead th {\n",
       "        text-align: right;\n",
       "    }\n",
       "</style>\n",
       "<table border=\"1\" class=\"dataframe\">\n",
       "  <thead>\n",
       "    <tr style=\"text-align: right;\">\n",
       "      <th></th>\n",
       "      <th>time</th>\n",
       "      <th>A1</th>\n",
       "      <th>A2</th>\n",
       "    </tr>\n",
       "  </thead>\n",
       "  <tbody>\n",
       "    <tr>\n",
       "      <th>0</th>\n",
       "      <td>2021-11-23 15:32:05</td>\n",
       "      <td>1499</td>\n",
       "      <td>1592</td>\n",
       "    </tr>\n",
       "    <tr>\n",
       "      <th>1</th>\n",
       "      <td>2021-03-23 09:21:52</td>\n",
       "      <td>1252</td>\n",
       "      <td>1459</td>\n",
       "    </tr>\n",
       "    <tr>\n",
       "      <th>2</th>\n",
       "      <td>2021-11-06 14:08:00</td>\n",
       "      <td>1731</td>\n",
       "      <td>2223</td>\n",
       "    </tr>\n",
       "    <tr>\n",
       "      <th>3</th>\n",
       "      <td>2020-03-27 19:27:13</td>\n",
       "      <td>1691</td>\n",
       "      <td>1904</td>\n",
       "    </tr>\n",
       "    <tr>\n",
       "      <th>4</th>\n",
       "      <td>2021-12-10 21:27:02</td>\n",
       "      <td>2364</td>\n",
       "      <td>3121</td>\n",
       "    </tr>\n",
       "    <tr>\n",
       "      <th>5</th>\n",
       "      <td>2021-12-09 03:50:50</td>\n",
       "      <td>2096</td>\n",
       "      <td>1942</td>\n",
       "    </tr>\n",
       "    <tr>\n",
       "      <th>6</th>\n",
       "      <td>2021-11-03 16:10:20</td>\n",
       "      <td>7639</td>\n",
       "      <td>8196</td>\n",
       "    </tr>\n",
       "    <tr>\n",
       "      <th>7</th>\n",
       "      <td>2020-12-22 02:26:48</td>\n",
       "      <td>7088</td>\n",
       "      <td>7542</td>\n",
       "    </tr>\n",
       "    <tr>\n",
       "      <th>8</th>\n",
       "      <td>2020-10-06 06:50:29</td>\n",
       "      <td>8736</td>\n",
       "      <td>8459</td>\n",
       "    </tr>\n",
       "    <tr>\n",
       "      <th>9</th>\n",
       "      <td>2020-12-16 17:37:30</td>\n",
       "      <td>7778</td>\n",
       "      <td>7704</td>\n",
       "    </tr>\n",
       "    <tr>\n",
       "      <th>10</th>\n",
       "      <td>2021-09-04 08:52:00</td>\n",
       "      <td>6612</td>\n",
       "      <td>6593</td>\n",
       "    </tr>\n",
       "    <tr>\n",
       "      <th>11</th>\n",
       "      <td>2020-09-06 20:18:32</td>\n",
       "      <td>8520</td>\n",
       "      <td>9122</td>\n",
       "    </tr>\n",
       "  </tbody>\n",
       "</table>\n",
       "</div>"
      ],
      "text/plain": [
       "                  time    A1    A2\n",
       "0  2021-11-23 15:32:05  1499  1592\n",
       "1  2021-03-23 09:21:52  1252  1459\n",
       "2  2021-11-06 14:08:00  1731  2223\n",
       "3  2020-03-27 19:27:13  1691  1904\n",
       "4  2021-12-10 21:27:02  2364  3121\n",
       "5  2021-12-09 03:50:50  2096  1942\n",
       "6  2021-11-03 16:10:20  7639  8196\n",
       "7  2020-12-22 02:26:48  7088  7542\n",
       "8  2020-10-06 06:50:29  8736  8459\n",
       "9  2020-12-16 17:37:30  7778  7704\n",
       "10 2021-09-04 08:52:00  6612  6593\n",
       "11 2020-09-06 20:18:32  8520  9122"
      ]
     },
     "execution_count": 32,
     "metadata": {},
     "output_type": "execute_result"
    }
   ],
   "source": [
    "dt = lambda x: pd.to_datetime(x,unit='s')\n",
    "sp = lambda s: pd.to_numeric(str(s).lstrip('*').rstrip('*'))\n",
    "dft = pd.read_csv('Datasets/sample.csv',converters={'time':dt,'A1':sp,'A2':sp})\n",
    "dft\n",
    "\n",
    "\n",
    "## Another example where we are going to load a csv and convert epoc time to datetime and remove special\n",
    "## characters from other columns. This uses the \"converters\" which are similar to map and modify data.\n",
    "##if you have a float column which has special characters, most of the \n",
    "## float operations will faild since they cannot handle the special characters.\n",
    "## The data in the file looks like this:\n",
    "## time,A1,A2\n",
    "##1637681525,1499,1592\n",
    "##1599423512,*8520*,*9122*"
   ]
  },
  {
   "cell_type": "code",
   "execution_count": 33,
   "id": "f4cea127",
   "metadata": {
    "ExecuteTime": {
     "end_time": "2022-03-13T07:01:02.770301Z",
     "start_time": "2022-03-13T07:01:02.753109Z"
    }
   },
   "outputs": [
    {
     "data": {
      "text/html": [
       "<div>\n",
       "<style scoped>\n",
       "    .dataframe tbody tr th:only-of-type {\n",
       "        vertical-align: middle;\n",
       "    }\n",
       "\n",
       "    .dataframe tbody tr th {\n",
       "        vertical-align: top;\n",
       "    }\n",
       "\n",
       "    .dataframe thead th {\n",
       "        text-align: right;\n",
       "    }\n",
       "</style>\n",
       "<table border=\"1\" class=\"dataframe\">\n",
       "  <thead>\n",
       "    <tr style=\"text-align: right;\">\n",
       "      <th></th>\n",
       "      <th>time</th>\n",
       "      <th>A1</th>\n",
       "      <th>A2</th>\n",
       "      <th>dtime</th>\n",
       "    </tr>\n",
       "  </thead>\n",
       "  <tbody>\n",
       "    <tr>\n",
       "      <th>0</th>\n",
       "      <td>1637681525</td>\n",
       "      <td>1499</td>\n",
       "      <td>1592</td>\n",
       "      <td>2021-11-23 15:32:05</td>\n",
       "    </tr>\n",
       "    <tr>\n",
       "      <th>1</th>\n",
       "      <td>1616491312</td>\n",
       "      <td>1252</td>\n",
       "      <td>1459</td>\n",
       "      <td>2021-03-23 09:21:52</td>\n",
       "    </tr>\n",
       "    <tr>\n",
       "      <th>2</th>\n",
       "      <td>1636207680</td>\n",
       "      <td>1731</td>\n",
       "      <td>2223</td>\n",
       "      <td>2021-11-06 14:08:00</td>\n",
       "    </tr>\n",
       "    <tr>\n",
       "      <th>3</th>\n",
       "      <td>1585337233</td>\n",
       "      <td>1691</td>\n",
       "      <td>1904</td>\n",
       "      <td>2020-03-27 19:27:13</td>\n",
       "    </tr>\n",
       "    <tr>\n",
       "      <th>4</th>\n",
       "      <td>1639171622</td>\n",
       "      <td>2364</td>\n",
       "      <td>3121</td>\n",
       "      <td>2021-12-10 21:27:02</td>\n",
       "    </tr>\n",
       "    <tr>\n",
       "      <th>5</th>\n",
       "      <td>1639021850</td>\n",
       "      <td>2096</td>\n",
       "      <td>1942</td>\n",
       "      <td>2021-12-09 03:50:50</td>\n",
       "    </tr>\n",
       "    <tr>\n",
       "      <th>6</th>\n",
       "      <td>1635955820</td>\n",
       "      <td>7639</td>\n",
       "      <td>8196</td>\n",
       "      <td>2021-11-03 16:10:20</td>\n",
       "    </tr>\n",
       "    <tr>\n",
       "      <th>7</th>\n",
       "      <td>1608604008</td>\n",
       "      <td>7088</td>\n",
       "      <td>7542</td>\n",
       "      <td>2020-12-22 02:26:48</td>\n",
       "    </tr>\n",
       "    <tr>\n",
       "      <th>8</th>\n",
       "      <td>1601967029</td>\n",
       "      <td>8736</td>\n",
       "      <td>8459</td>\n",
       "      <td>2020-10-06 06:50:29</td>\n",
       "    </tr>\n",
       "    <tr>\n",
       "      <th>9</th>\n",
       "      <td>1608140250</td>\n",
       "      <td>7778</td>\n",
       "      <td>7704</td>\n",
       "      <td>2020-12-16 17:37:30</td>\n",
       "    </tr>\n",
       "    <tr>\n",
       "      <th>10</th>\n",
       "      <td>1630745520</td>\n",
       "      <td>6612</td>\n",
       "      <td>6593</td>\n",
       "      <td>2021-09-04 08:52:00</td>\n",
       "    </tr>\n",
       "    <tr>\n",
       "      <th>11</th>\n",
       "      <td>1599423512</td>\n",
       "      <td>8520</td>\n",
       "      <td>9122</td>\n",
       "      <td>2020-09-06 20:18:32</td>\n",
       "    </tr>\n",
       "  </tbody>\n",
       "</table>\n",
       "</div>"
      ],
      "text/plain": [
       "          time    A1    A2               dtime\n",
       "0   1637681525  1499  1592 2021-11-23 15:32:05\n",
       "1   1616491312  1252  1459 2021-03-23 09:21:52\n",
       "2   1636207680  1731  2223 2021-11-06 14:08:00\n",
       "3   1585337233  1691  1904 2020-03-27 19:27:13\n",
       "4   1639171622  2364  3121 2021-12-10 21:27:02\n",
       "5   1639021850  2096  1942 2021-12-09 03:50:50\n",
       "6   1635955820  7639  8196 2021-11-03 16:10:20\n",
       "7   1608604008  7088  7542 2020-12-22 02:26:48\n",
       "8   1601967029  8736  8459 2020-10-06 06:50:29\n",
       "9   1608140250  7778  7704 2020-12-16 17:37:30\n",
       "10  1630745520  6612  6593 2021-09-04 08:52:00\n",
       "11  1599423512  8520  9122 2020-09-06 20:18:32"
      ]
     },
     "execution_count": 33,
     "metadata": {},
     "output_type": "execute_result"
    }
   ],
   "source": [
    "dt = lambda x: pd.to_datetime(x,unit='s')\n",
    "sp = lambda s: pd.to_numeric(str(s).lstrip('*').rstrip('*'))\n",
    "dft = pd.read_csv('Datasets/sample.csv',converters={'A1':sp,'A2':sp})\n",
    "dft['dtime'] = dft['time'].apply(dt)\n",
    "dft\n",
    "\n",
    "## Another way is to add an additional column for datetime instead of converting the existing column"
   ]
  },
  {
   "cell_type": "code",
   "execution_count": null,
   "id": "adf988e1",
   "metadata": {},
   "outputs": [],
   "source": []
  }
 ],
 "metadata": {
  "hide_input": false,
  "kernelspec": {
   "display_name": "Python 3",
   "language": "python",
   "name": "python3"
  },
  "language_info": {
   "codemirror_mode": {
    "name": "ipython",
    "version": 3
   },
   "file_extension": ".py",
   "mimetype": "text/x-python",
   "name": "python",
   "nbconvert_exporter": "python",
   "pygments_lexer": "ipython3",
   "version": "3.8.2"
  }
 },
 "nbformat": 4,
 "nbformat_minor": 5
}
